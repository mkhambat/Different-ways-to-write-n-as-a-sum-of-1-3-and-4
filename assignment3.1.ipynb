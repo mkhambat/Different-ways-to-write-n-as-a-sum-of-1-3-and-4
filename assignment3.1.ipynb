{
 "cells": [
  {
   "cell_type": "code",
   "execution_count": 9,
   "metadata": {},
   "outputs": [
    {
     "data": {
      "text/plain": [
       "98344"
      ]
     },
     "execution_count": 9,
     "metadata": {},
     "output_type": "execute_result"
    }
   ],
   "source": [
    "#Question 1\n",
    "\n",
    "memo=[]  #Create an empty list called memo (This acts like our DP table)\n",
    "\n",
    "#Append base cases\n",
    "memo.append(0)   # 0 can be written in zero ways\n",
    "memo.append(1)   # 1 can be wriiten in one way (1)\n",
    "memo.append(1)   # 2 can be wriiten in one way(1+1)\n",
    "memo.append(2)   # 3 can be written in two ways(1+1+1 or 3)\n",
    "memo.append(4)   # 4 ways (1+1+1+1 or 3+1 or 1+3 or 4)\n",
    "\n",
    "n=512555   #Value of input\n",
    "\n",
    "def count(n):\n",
    "\n",
    "    if(n<0):\n",
    "        return 0\n",
    "    for i in range(5,n+1):   \n",
    "        memo.append(memo[i-1]%100000 + memo[i-3]%100000 + memo[i-4]%100000)   #Accesses and adds the previously computed values to the next cell in the list(Adds only last 5 digits to the list) \n",
    "    return(memo[n])   #Returns the answer\n",
    "    \n",
    "count(n)"
   ]
  },
  {
   "cell_type": "code",
   "execution_count": 15,
   "metadata": {},
   "outputs": [
    {
     "name": "stdout",
     "output_type": "stream",
     "text": [
      "1028\n"
     ]
    },
    {
     "name": "stderr",
     "output_type": "stream",
     "text": [
      "C:\\Users\\Murtaza Khambaty\\Anaconda3\\lib\\site-packages\\ipykernel_launcher.py:11: RuntimeWarning: overflow encountered in long_scalars\n",
      "  # This is added back by InteractiveShellApp.init_path()\n"
     ]
    }
   ],
   "source": [
    "import numpy as np\n",
    "\n",
    "memo = np.array([0,1,1,2,4])\n",
    "\n",
    "n = 100\n",
    "\n",
    "def count(n,memo):\n",
    "    \n",
    "    for i in range(5,n+1):\n",
    "        #print(memo[i-1] + memo[i-3] + memo[i-4])\n",
    "        memo=np.append(memo,memo[i-1] + memo[i-3] + memo[i-4])\n",
    "    print (memo[-1]%100000)\n",
    "count(n,memo)"
   ]
  },
  {
   "cell_type": "code",
   "execution_count": null,
   "metadata": {
    "collapsed": true
   },
   "outputs": [],
   "source": []
  }
 ],
 "metadata": {
  "kernelspec": {
   "display_name": "Python 3",
   "language": "python",
   "name": "python3"
  },
  "language_info": {
   "codemirror_mode": {
    "name": "ipython",
    "version": 3
   },
   "file_extension": ".py",
   "mimetype": "text/x-python",
   "name": "python",
   "nbconvert_exporter": "python",
   "pygments_lexer": "ipython3",
   "version": "3.6.1"
  }
 },
 "nbformat": 4,
 "nbformat_minor": 2
}
